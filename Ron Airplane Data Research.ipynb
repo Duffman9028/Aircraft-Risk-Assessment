{
 "cells": [
  {
   "cell_type": "markdown",
   "id": "79c4a723",
   "metadata": {},
   "source": [
    "import pandas as pd\n",
    "df = pd.read_csv(\"clean_df.csv\")"
   ]
  },
  {
   "cell_type": "code",
   "execution_count": 1,
   "id": "e0807925",
   "metadata": {},
   "outputs": [],
   "source": [
    "import pandas as pd \n",
    "import matplotlib.pyplot as plt\n",
    "import numpy as np"
   ]
  },
  {
   "cell_type": "code",
   "execution_count": 2,
   "id": "ada6baf5",
   "metadata": {},
   "outputs": [],
   "source": [
    "df = pd.read_csv(\"clean_df.csv\", low_memory=False)"
   ]
  },
  {
   "cell_type": "code",
   "execution_count": 3,
   "id": "0ae5624c",
   "metadata": {},
   "outputs": [
    {
     "data": {
      "text/plain": [
       "Index(['Event.Id', 'Investigation.Type', 'Accident.Number', 'Event.Date',\n",
       "       'Location', 'Country', 'Latitude', 'Longitude', 'Airport.Code',\n",
       "       'Airport.Name', 'Injury.Severity', 'Aircraft.damage',\n",
       "       'Aircraft.Category', 'Registration.Number', 'Make', 'Model',\n",
       "       'Amateur.Built', 'Number.of.Engines', 'Engine.Type', 'FAR.Description',\n",
       "       'Schedule', 'Purpose.of.flight', 'Air.carrier', 'Total.Fatal.Injuries',\n",
       "       'Total.Serious.Injuries', 'Total.Minor.Injuries', 'Total.Uninjured',\n",
       "       'Weather.Condition', 'Broad.phase.of.flight', 'Report.Status',\n",
       "       'Publication.Date'],\n",
       "      dtype='object')"
      ]
     },
     "execution_count": 3,
     "metadata": {},
     "output_type": "execute_result"
    }
   ],
   "source": [
    "df.columns"
   ]
  },
  {
   "cell_type": "code",
   "execution_count": 9,
   "id": "92d449e3",
   "metadata": {},
   "outputs": [
    {
     "data": {
      "text/html": [
       "<div>\n",
       "<style scoped>\n",
       "    .dataframe tbody tr th:only-of-type {\n",
       "        vertical-align: middle;\n",
       "    }\n",
       "\n",
       "    .dataframe tbody tr th {\n",
       "        vertical-align: top;\n",
       "    }\n",
       "\n",
       "    .dataframe thead th {\n",
       "        text-align: right;\n",
       "    }\n",
       "</style>\n",
       "<table border=\"1\" class=\"dataframe\">\n",
       "  <thead>\n",
       "    <tr style=\"text-align: right;\">\n",
       "      <th></th>\n",
       "      <th>Unnamed: 0</th>\n",
       "      <th>level_0</th>\n",
       "      <th>index</th>\n",
       "      <th>Event.Id</th>\n",
       "      <th>Investigation.Type</th>\n",
       "      <th>Accident.Number</th>\n",
       "      <th>Event.Date</th>\n",
       "      <th>Location</th>\n",
       "      <th>Country</th>\n",
       "      <th>Latitude</th>\n",
       "      <th>...</th>\n",
       "      <th>Purpose.of.flight</th>\n",
       "      <th>Air.carrier</th>\n",
       "      <th>Total.Fatal.Injuries</th>\n",
       "      <th>Total.Serious.Injuries</th>\n",
       "      <th>Total.Minor.Injuries</th>\n",
       "      <th>Total.Uninjured</th>\n",
       "      <th>Weather.Condition</th>\n",
       "      <th>Broad.phase.of.flight</th>\n",
       "      <th>Report.Status</th>\n",
       "      <th>Publication.Date</th>\n",
       "    </tr>\n",
       "  </thead>\n",
       "  <tbody>\n",
       "    <tr>\n",
       "      <th>0</th>\n",
       "      <td>0</td>\n",
       "      <td>0</td>\n",
       "      <td>7</td>\n",
       "      <td>20020909X01562</td>\n",
       "      <td>Accident</td>\n",
       "      <td>SEA82DA022</td>\n",
       "      <td>1982-01-01</td>\n",
       "      <td>PULLMAN, WA</td>\n",
       "      <td>United States</td>\n",
       "      <td>NaN</td>\n",
       "      <td>...</td>\n",
       "      <td>Personal</td>\n",
       "      <td>NaN</td>\n",
       "      <td>0.0</td>\n",
       "      <td>0.0</td>\n",
       "      <td>0.0</td>\n",
       "      <td>2.0</td>\n",
       "      <td>VMC</td>\n",
       "      <td>Takeoff</td>\n",
       "      <td>Probable Cause</td>\n",
       "      <td>01-01-1982</td>\n",
       "    </tr>\n",
       "    <tr>\n",
       "      <th>1</th>\n",
       "      <td>1</td>\n",
       "      <td>1</td>\n",
       "      <td>8</td>\n",
       "      <td>20020909X01561</td>\n",
       "      <td>Accident</td>\n",
       "      <td>NYC82DA015</td>\n",
       "      <td>1982-01-01</td>\n",
       "      <td>EAST HANOVER, NJ</td>\n",
       "      <td>United States</td>\n",
       "      <td>NaN</td>\n",
       "      <td>...</td>\n",
       "      <td>Business</td>\n",
       "      <td>NaN</td>\n",
       "      <td>0.0</td>\n",
       "      <td>0.0</td>\n",
       "      <td>0.0</td>\n",
       "      <td>2.0</td>\n",
       "      <td>IMC</td>\n",
       "      <td>Landing</td>\n",
       "      <td>Probable Cause</td>\n",
       "      <td>01-01-1982</td>\n",
       "    </tr>\n",
       "    <tr>\n",
       "      <th>2</th>\n",
       "      <td>2</td>\n",
       "      <td>2</td>\n",
       "      <td>10</td>\n",
       "      <td>20020909X01559</td>\n",
       "      <td>Accident</td>\n",
       "      <td>FTW82DA034</td>\n",
       "      <td>1982-01-01</td>\n",
       "      <td>HOBBS, NM</td>\n",
       "      <td>United States</td>\n",
       "      <td>NaN</td>\n",
       "      <td>...</td>\n",
       "      <td>Personal</td>\n",
       "      <td>NaN</td>\n",
       "      <td>0.0</td>\n",
       "      <td>0.0</td>\n",
       "      <td>0.0</td>\n",
       "      <td>1.0</td>\n",
       "      <td>VMC</td>\n",
       "      <td>Approach</td>\n",
       "      <td>Probable Cause</td>\n",
       "      <td>01-01-1982</td>\n",
       "    </tr>\n",
       "    <tr>\n",
       "      <th>3</th>\n",
       "      <td>3</td>\n",
       "      <td>3</td>\n",
       "      <td>11</td>\n",
       "      <td>20020909X01558</td>\n",
       "      <td>Accident</td>\n",
       "      <td>ATL82DKJ10</td>\n",
       "      <td>1982-01-01</td>\n",
       "      <td>TUSKEGEE, AL</td>\n",
       "      <td>United States</td>\n",
       "      <td>NaN</td>\n",
       "      <td>...</td>\n",
       "      <td>Personal</td>\n",
       "      <td>NaN</td>\n",
       "      <td>0.0</td>\n",
       "      <td>0.0</td>\n",
       "      <td>0.0</td>\n",
       "      <td>1.0</td>\n",
       "      <td>VMC</td>\n",
       "      <td>Landing</td>\n",
       "      <td>Probable Cause</td>\n",
       "      <td>01-01-1982</td>\n",
       "    </tr>\n",
       "    <tr>\n",
       "      <th>4</th>\n",
       "      <td>4</td>\n",
       "      <td>4</td>\n",
       "      <td>12</td>\n",
       "      <td>20020917X02148</td>\n",
       "      <td>Accident</td>\n",
       "      <td>FTW82FRJ07</td>\n",
       "      <td>1982-01-02</td>\n",
       "      <td>HOMER, LA</td>\n",
       "      <td>United States</td>\n",
       "      <td>NaN</td>\n",
       "      <td>...</td>\n",
       "      <td>Personal</td>\n",
       "      <td>NaN</td>\n",
       "      <td>0.0</td>\n",
       "      <td>0.0</td>\n",
       "      <td>1.0</td>\n",
       "      <td>0.0</td>\n",
       "      <td>IMC</td>\n",
       "      <td>Cruise</td>\n",
       "      <td>Probable Cause</td>\n",
       "      <td>02-01-1983</td>\n",
       "    </tr>\n",
       "  </tbody>\n",
       "</table>\n",
       "<p>5 rows × 34 columns</p>\n",
       "</div>"
      ],
      "text/plain": [
       "   Unnamed: 0  level_0  index        Event.Id Investigation.Type  \\\n",
       "0           0        0      7  20020909X01562           Accident   \n",
       "1           1        1      8  20020909X01561           Accident   \n",
       "2           2        2     10  20020909X01559           Accident   \n",
       "3           3        3     11  20020909X01558           Accident   \n",
       "4           4        4     12  20020917X02148           Accident   \n",
       "\n",
       "  Accident.Number  Event.Date          Location        Country Latitude  ...  \\\n",
       "0      SEA82DA022  1982-01-01       PULLMAN, WA  United States      NaN  ...   \n",
       "1      NYC82DA015  1982-01-01  EAST HANOVER, NJ  United States      NaN  ...   \n",
       "2      FTW82DA034  1982-01-01         HOBBS, NM  United States      NaN  ...   \n",
       "3      ATL82DKJ10  1982-01-01      TUSKEGEE, AL  United States      NaN  ...   \n",
       "4      FTW82FRJ07  1982-01-02         HOMER, LA  United States      NaN  ...   \n",
       "\n",
       "  Purpose.of.flight Air.carrier Total.Fatal.Injuries Total.Serious.Injuries  \\\n",
       "0          Personal         NaN                  0.0                    0.0   \n",
       "1          Business         NaN                  0.0                    0.0   \n",
       "2          Personal         NaN                  0.0                    0.0   \n",
       "3          Personal         NaN                  0.0                    0.0   \n",
       "4          Personal         NaN                  0.0                    0.0   \n",
       "\n",
       "  Total.Minor.Injuries Total.Uninjured Weather.Condition  \\\n",
       "0                  0.0             2.0               VMC   \n",
       "1                  0.0             2.0               IMC   \n",
       "2                  0.0             1.0               VMC   \n",
       "3                  0.0             1.0               VMC   \n",
       "4                  1.0             0.0               IMC   \n",
       "\n",
       "  Broad.phase.of.flight   Report.Status Publication.Date  \n",
       "0               Takeoff  Probable Cause       01-01-1982  \n",
       "1               Landing  Probable Cause       01-01-1982  \n",
       "2              Approach  Probable Cause       01-01-1982  \n",
       "3               Landing  Probable Cause       01-01-1982  \n",
       "4                Cruise  Probable Cause       02-01-1983  \n",
       "\n",
       "[5 rows x 34 columns]"
      ]
     },
     "execution_count": 9,
     "metadata": {},
     "output_type": "execute_result"
    }
   ],
   "source": [
    "df.head()"
   ]
  },
  {
   "cell_type": "markdown",
   "id": "03891a82",
   "metadata": {},
   "source": [
    "TOP BY MAKER"
   ]
  },
  {
   "cell_type": "code",
   "execution_count": 7,
   "id": "edc25539",
   "metadata": {
    "scrolled": true
   },
   "outputs": [
    {
     "data": {
      "text/plain": [
       "Make\n",
       "cessna               21354\n",
       "piper                12415\n",
       "beech                 4447\n",
       "boeing                1973\n",
       "grumman               1484\n",
       "mooney                1239\n",
       "bellanca               890\n",
       "air tractor            655\n",
       "aeronca                495\n",
       "maule                  495\n",
       "champion               444\n",
       "bell                   392\n",
       "stinson                390\n",
       "mcdonnell douglas      370\n",
       "luscombe               355\n",
       "aero commander         352\n",
       "taylorcraft            316\n",
       "de havilland           311\n",
       "rockwell               300\n",
       "north american         297\n",
       "Name: count, dtype: int64"
      ]
     },
     "execution_count": 7,
     "metadata": {},
     "output_type": "execute_result"
    }
   ],
   "source": [
    "df['Make'].value_counts().head(20)"
   ]
  },
  {
   "cell_type": "code",
   "execution_count": 36,
   "id": "73433faa",
   "metadata": {},
   "outputs": [],
   "source": [
    "sum_fatal_inj = df['Total.Fatal.Injuries'].sum()\n",
    "sum_serious_inj = df['Total.Serious.Injuries'].sum()\n",
    "sum_minor_inj = df['Total.Minor.Injuries'].sum()"
   ]
  },
  {
   "cell_type": "code",
   "execution_count": 37,
   "id": "38212fa8",
   "metadata": {},
   "outputs": [],
   "source": [
    "total_injuries = sum_fatal_inj +sum_serious_inj + sum_minor_inj"
   ]
  },
  {
   "cell_type": "code",
   "execution_count": 21,
   "id": "0baf28c6",
   "metadata": {},
   "outputs": [
    {
     "data": {
      "text/plain": [
       "Make\n",
       "cessna     21354\n",
       "piper      12415\n",
       "beech       4447\n",
       "boeing      1973\n",
       "grumman     1484\n",
       "Name: count, dtype: int64"
      ]
     },
     "execution_count": 21,
     "metadata": {},
     "output_type": "execute_result"
    }
   ],
   "source": [
    "df['Make'].value_counts().head()"
   ]
  },
  {
   "cell_type": "code",
   "execution_count": 17,
   "id": "08353bfa",
   "metadata": {},
   "outputs": [
    {
     "data": {
      "image/png": "[encoded data removed]",
      "text/plain": [
       "<Figure size 640x480 with 1 Axes>"
      ]
     },
     "metadata": {},
     "output_type": "display_data"
    }
   ],
   "source": [
    "cessna_data = df[df['Make'] == 'cessna']\n",
    "piper_data = df[df['Make'] == 'piper']\n",
    "beech_data = df[df['Make'] == 'beech']\n",
    "\n",
    "# Sum the columns for each aircraft type\n",
    "cessna_totals = cessna_data[['Total.Fatal.Injuries', 'Total.Serious.Injuries', 'Total.Minor.Injuries']].sum()\n",
    "piper_totals = piper_data[['Total.Fatal.Injuries', 'Total.Serious.Injuries', 'Total.Minor.Injuries']].sum()\n",
    "beech_totals = beech_data[['Total.Fatal.Injuries', 'Total.Serious.Injuries', 'Total.Minor.Injuries']].sum()\n",
    "\n",
    "# Create a bar graph\n",
    "categories = np.arange(len(cessna_totals))  # Use NumPy to create an array of indices\n",
    "bar_width = 0.25  # Adjust the bar width as needed\n",
    "\n",
    "plt.bar(categories, cessna_totals, width=bar_width, label='Cessna')\n",
    "plt.bar(categories + bar_width, piper_totals, width=bar_width, label='Piper')  # Adjust x-coordinates\n",
    "plt.bar(categories + 2 * bar_width, beech_totals, width=bar_width, label='Beech')  # Adjust x-coordinates\n",
    "\n",
    "# Add labels to the x-axis\n",
    "plt.xticks(categories + bar_width, ['Total Fatal Injuries', 'Total Serious Injuries', 'Total Minor Injuries'])\n",
    "\n",
    "\n",
    "# Add labels and title\n",
    "plt.xlabel('Injury Categories')\n",
    "plt.ylabel('Total Injuries')\n",
    "plt.title('Total Injuries for Cessna, Piper, and Beech')\n",
    "\n",
    "# Add legend\n",
    "plt.legend()\n",
    "\n",
    "# Show the plot\n",
    "plt.show()\n"
   ]
  },
  {
   "cell_type": "code",
   "execution_count": 123,
   "id": "973f45f6",
   "metadata": {},
   "outputs": [
    {
     "data": {
      "text/plain": [
       "Total.Fatal.Injuries    2.638924\n",
       "dtype: float64"
      ]
     },
     "execution_count": 123,
     "metadata": {},
     "output_type": "execute_result"
    }
   ],
   "source": [
    "#Filter\n",
    "df[df['Engine.Type'] == 'Turbo Fan']\n",
    "\n",
    "\n",
    "#Total Turbo Fan Injuries \n",
    "turbo_fan_column = df[df['Engine.Type'] == 'Turbo Fan']\n",
    "turbo_fan_injuries = turbo_fan_column[['Total.Fatal.Injuries', 'Total.Serious.Injuries', 'Total.Minor.Injuries', 'Total.Uninjured']].sum()\n",
    "turbo_fan_injuries_total = turbo_fan_injuries.sum()\n",
    "\n",
    "\n",
    "#Total Turbo Fan \"FATAL\" Injuries \n",
    "turbo_fan_fatal_injuries = turbo_fan_column[['Total.Fatal.Injuries']]\n",
    "turbo_fan_fatal_total = turbo_fan_fatal_injuries.sum()\n",
    "turbo_fan_fatal_total\n",
    "\n",
    "\n",
    "#Calculate %\n",
    "\n",
    "turbo_fan_fatal_percent = (turbo_fan_fatal_total / turbo_fan_injuries_total) * 100\n",
    "\n",
    "turbo_fan_fatal_percent"
   ]
  },
  {
   "cell_type": "code",
   "execution_count": 120,
   "id": "2ee24dee",
   "metadata": {},
   "outputs": [
    {
     "data": {
      "text/plain": [
       "Total.Fatal.Injuries    1.042193\n",
       "dtype: float64"
      ]
     },
     "execution_count": 120,
     "metadata": {},
     "output_type": "execute_result"
    }
   ],
   "source": [
    "#Filter\n",
    "df[df['Engine.Type'] == 'Turbo Jet']\n",
    "\n",
    "\n",
    "#Total Turbo Jet Injuries \n",
    "turbo_jet_column = df[df['Engine.Type'] == 'Turbo Jet']\n",
    "turbo_jet_injuries = turbo_fan_column[['Total.Fatal.Injuries', 'Total.Serious.Injuries', 'Total.Minor.Injuries', 'Total.Uninjured']].sum()\n",
    "turbo_jet_injuries_total = turbo_jet_injuries.sum()\n",
    "\n",
    "\n",
    "#Total Turbo Jet \"FATAL\" Injuries \n",
    "turbo_jet_fatal_injuries = turbo_jet_column[['Total.Fatal.Injuries']]\n",
    "\n",
    "\n",
    "\n",
    "turbo_jet_fatal_total = turbo_jet_fatal_injuries.sum().astype(int)\n",
    "\n",
    "\n",
    "#Calculate %\n",
    "\n",
    "turbo_jet_fatal_percent = (turbo_jet_fatal_total / turbo_jet_injuries_total) * 100\n",
    "\n",
    "turbo_jet_fatal_percent\n"
   ]
  },
  {
   "cell_type": "code",
   "execution_count": 131,
   "id": "fe99e09b",
   "metadata": {},
   "outputs": [
    {
     "data": {
      "text/plain": [
       "Text(0.5, 1.0, 'Percent of Fatal Injury by Engine Type')"
      ]
     },
     "execution_count": 131,
     "metadata": {},
     "output_type": "execute_result"
    },
    {
     "data": {
      "image/png": "[encoded data removed]",
      "text/plain": [
       "<Figure size 640x480 with 1 Axes>"
      ]
     },
     "metadata": {},
     "output_type": "display_data"
    }
   ],
   "source": [
    "Turbo_Jet_Cat = ['Turbo Jet']\n",
    "Turbo_Fan_Cat = ['Turbo Fan']\n",
    "\n",
    "\n",
    "#plt.bar([Turbo_Fan_Cat[0], Turbo_Jet_Cat[0]], [turbo_fan_fatal_percent, turbo_jet_fatal_percent], width=bar_width, label='Fatal Percentage', color=['green', 'blue'])\n",
    "bar_width = 0.3\n",
    "\n",
    "plt.bar(Turbo_Fan_Cat, turbo_fan_fatal_percent, width=bar_width, label='Turbo Fan')\n",
    "plt.bar(Turbo_Jet_Cat, turbo_jet_fatal_percent, width=bar_width, label='Turbo Jet')\n",
    "\n",
    "\n",
    "# Add labels and title\n",
    "plt.xlabel('Aircraft Engine by Type')\n",
    "plt.ylabel('Fatality Percentage')\n",
    "plt.title('Percent of Fatal Injury by Engine Type')"
   ]
  },
  {
   "cell_type": "markdown",
   "id": "e4ea0e2d",
   "metadata": {},
   "source": [
    "AIRPLANE MAKER DAMAGE BY WEATHER"
   ]
  },
  {
   "cell_type": "code",
   "execution_count": 137,
   "id": "5ef357b8",
   "metadata": {},
   "outputs": [],
   "source": [
    "############ 'boeing' Filter ##############\n",
    "boeing_flights = df[df['Make'] == 'boeing']\n",
    "boeing_turbo_jets = boeing_flights[(boeing_flights['Engine.Type'].isin(['Turbo Fan','Turbo Jet']))]\n",
    "triple_boeing_engines = boeing_turbo_jets[(boeing_turbo_jets['Number.of.Engines'] == 3)]\n",
    "boeing_engines_destroyed  = triple_boeing_engines[(triple_boeing_engines['Aircraft.damage'] == 'Destroyed')]\n",
    "\n",
    "\n",
    "\n",
    "\n",
    "#Convert total 'boeing' destroyed to int\n",
    "\n",
    "num_destroyed_boeing = len(boeing_engines_destroyed)\n",
    "num_triple_boeing_engines = len(triple_boeing_engines)\n",
    "\n",
    "\n",
    "\n",
    "#Get 'boeing' Percentage\n",
    "boeing_destroyed_percent = (num_destroyed_boeing / num_triple_boeing_engines) * 100\n",
    "\n",
    "\n",
    "\n",
    "\n",
    "\n",
    "\n",
    "\n",
    "############## 'lockheed' Filter #################\n",
    "\n",
    "lockheed_flights = df[df['Make'] == 'lockheed']\n",
    "lockheed_turbo_jets = lockheed_flights[(lockheed_flights['Engine.Type'].isin(['Turbo Fan','Turbo Jet']))]\n",
    "triple_lockheed_engines = lockheed_turbo_jets[(lockheed_turbo_jets['Number.of.Engines'] == 3)]\n",
    "lockheed_engines_destroyed  = triple_lockheed_engines[(triple_lockheed_engines['Aircraft.damage'] == 'Destroyed')]\n",
    "\n",
    "\n",
    "#Convert total Lockheed destroyed to int\n",
    "num_destroyed_lockheed = len(lockheed_engines_destroyed)\n",
    "num_triple_lockheed_engines = len(triple_lockheed_engines)\n",
    "\n",
    "#Get Lockheed Percentage\n",
    "lockheed_destroyed_percent = (num_destroyed_lockheed / num_triple_lockheed_engines) * 100\n",
    "\n",
    "\n",
    "\n",
    "\n",
    "\n",
    "\n",
    "\n",
    "############# 'mcdonnell douglas' Filter ############\n",
    "\n",
    "douglas_flights = df[df['Make'] == 'mcdonnell douglas']\n",
    "douglas_turbo_jets = douglas_flights[(douglas_flights['Engine.Type'].isin(['Turbo Fan','Turbo Jet']))]\n",
    "triple_douglas_engines = douglas_turbo_jets[(douglas_turbo_jets['Number.of.Engines'] == 3)]\n",
    "douglas_engines_destroyed  = triple_douglas_engines[(triple_douglas_engines['Aircraft.damage'] == 'Destroyed')]\n",
    "\n",
    "\n",
    "#Convert total 'mcdonnell douglas' destroyed to int\n",
    "num_destroyed_douglas = len(douglas_engines_destroyed)\n",
    "num_triple_douglas_engines = len(triple_douglas_engines)\n",
    "\n",
    "\n",
    "#Get 'mcdonnell douglas' Percentage\n",
    "douglas_destroyed_percent = (num_destroyed_douglas / num_triple_douglas_engines) * 100\n",
    "\n",
    "\n",
    "\n",
    "\n",
    "\n",
    "\n"
   ]
  },
  {
   "cell_type": "code",
   "execution_count": 134,
   "id": "8cfa3a4a",
   "metadata": {},
   "outputs": [
    {
     "name": "stderr",
     "output_type": "stream",
     "text": [
      "/Users/ronnie/anaconda3/envs/ronnie_dsc/lib/python3.10/site-packages/seaborn/_oldcore.py:1498: FutureWarning: is_categorical_dtype is deprecated and will be removed in a future version. Use isinstance(dtype, CategoricalDtype) instead\n",
      "  if pd.api.types.is_categorical_dtype(vector):\n",
      "/Users/ronnie/anaconda3/envs/ronnie_dsc/lib/python3.10/site-packages/seaborn/_oldcore.py:1498: FutureWarning: is_categorical_dtype is deprecated and will be removed in a future version. Use isinstance(dtype, CategoricalDtype) instead\n",
      "  if pd.api.types.is_categorical_dtype(vector):\n",
      "/Users/ronnie/anaconda3/envs/ronnie_dsc/lib/python3.10/site-packages/seaborn/_oldcore.py:1765: FutureWarning: unique with argument that is not not a Series, Index, ExtensionArray, or np.ndarray is deprecated and will raise in a future version.\n",
      "  order = pd.unique(vector)\n",
      "/Users/ronnie/anaconda3/envs/ronnie_dsc/lib/python3.10/site-packages/seaborn/_oldcore.py:1498: FutureWarning: is_categorical_dtype is deprecated and will be removed in a future version. Use isinstance(dtype, CategoricalDtype) instead\n",
      "  if pd.api.types.is_categorical_dtype(vector):\n"
     ]
    },
    {
     "data": {
      "image/png": "[encoded data removed]",
      "text/plain": [
       "<Figure size 640x480 with 1 Axes>"
      ]
     },
     "metadata": {},
     "output_type": "display_data"
    }
   ],
   "source": [
    "import seaborn as sns\n",
    "categories = ['Mcdonnell Douglas', 'Boeing', 'Lockheed']\n",
    "percentages = [douglas_destroyed_percent, boeing_destroyed_percent, lockheed_destroyed_percent]\n",
    "\n",
    "fig, ax = plt.subplots()\n",
    "\n",
    "sns.barplot(x = categories, y = percentages, )\n",
    "\n",
    "ax.set_xlabel('Aircraft Make')\n",
    "ax.set_ylabel('Destroyed Percentage')\n",
    "ax.set_title('Destroyed Percentage By Make');"
   ]
  },
  {
   "cell_type": "code",
   "execution_count": 116,
   "id": "76f49200",
   "metadata": {},
   "outputs": [
    {
     "data": {
      "text/plain": [
       "Text(0.5, 1.0, 'Destroyed Percentage By Maker')"
      ]
     },
     "execution_count": 116,
     "metadata": {},
     "output_type": "execute_result"
    },
    {
     "data": {
      "image/png": "[encoded data removed]",
      "text/plain": [
       "<Figure size 640x480 with 1 Axes>"
      ]
     },
     "metadata": {},
     "output_type": "display_data"
    }
   ],
   "source": [
    "Douglas_Cat = ['Mcdonnell Douglas']\n",
    "Boeing_Cat = ['Boeing']\n",
    "Lockheed_Cat = ['Lockheed']\n",
    "\n",
    "\n",
    "\n",
    "bar_width = 0.60  # Adjust the bar width as needed\n",
    "\n",
    "plt.bar(Douglas_Cat, douglas_destroyed_percent, width=bar_width, label='Turbo Fan')\n",
    "plt.bar(Boeing_Cat, boeing_destroyed_percent, width=bar_width, label='Boeing')\n",
    "plt.bar(Lockheed_Cat, lockheed_destroyed_percent, width=bar_width, label='Lockheed')\n",
    "\n",
    "# Add labels and title\n",
    "plt.xlabel('Aircraft Make')\n",
    "plt.ylabel('Destroyed Percentage')\n",
    "plt.title('Destroyed Percentage By Make')"
   ]
  },
  {
   "cell_type": "code",
   "execution_count": null,
   "id": "5eb270b3",
   "metadata": {},
   "outputs": [],
   "source": []
  }
 ],
 "metadata": {
  "kernelspec": {
   "display_name": "ronnie_dsc",
   "language": "python",
   "name": "ronnie_dsc"
  },
  "language_info": {
   "codemirror_mode": {
    "name": "ipython",
    "version": 3
   },
   "file_extension": ".py",
   "mimetype": "text/x-python",
   "name": "python",
   "nbconvert_exporter": "python",
   "pygments_lexer": "ipython3",
   "version": "3.10.13"
  }
 },
 "nbformat": 4,
 "nbformat_minor": 5
}
